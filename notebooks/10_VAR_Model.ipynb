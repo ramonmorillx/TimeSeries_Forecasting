{
 "cells": [
  {
   "cell_type": "markdown",
   "metadata": {},
   "source": [
    "## Máster en Data Science - Series Temporales\n",
    "\n",
    "# VAR Model\n",
    "Autor: Ramón Morillo Barrera\n",
    "\n",
    "## Dataset: Madrid.csv\n",
    "\n",
    "Los modelos VAR (Vectores Autorregresivos) son una metodología estadística utilizada para analizar y modelar sistemas de series temporales interrelacionadas. A diferencia de los enfoques univariados, los modelos VAR consideran todas las variables del sistema como endógenas, permitiendo capturar las interacciones dinámicas y los efectos de retroalimentación entre ellas. Cada variable en un modelo VAR se explica en función de sus propios valores pasados y de los valores pasados de las demás variables, lo que los hace especialmente útiles en contextos como economía, finanzas y demografía, donde las relaciones entre múltiples indicadores son fundamentales para entender el comportamiento del sistema.\n",
    "\n",
    "En nuestro caso no sería correcto aplicar un modelo VAR si solo tenemos dos columnas: la fecha y el valor de pasajeros. Esto se debe a que los modelos VAR están diseñados para analizar sistemas multivariados, es decir, situaciones donde hay al menos dos o más variables (series temporales) interdependientes que puedan influirse mutuamente.\n",
    "\n",
    "En nuestro caso, si únicamente tenemos la serie temporal de pasajeros (sin otras variables que puedan interactuar con ella), el modelo VAR no sería apropiado, ya que no hay otras variables en el sistema para modelar relaciones."
   ]
  }
 ],
 "metadata": {
  "language_info": {
   "name": "python"
  }
 },
 "nbformat": 4,
 "nbformat_minor": 2
}
